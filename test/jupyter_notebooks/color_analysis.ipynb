{
 "cells": [
  {
   "cell_type": "code",
   "execution_count": 1,
   "id": "49c0386c",
   "metadata": {},
   "outputs": [],
   "source": [
    "from PIL import Image\n",
    "import numpy as np\n",
    "import pandas as pd\n",
    "import matplotlib.pyplot as plt\n",
    "import cv2"
   ]
  },
  {
   "cell_type": "code",
   "execution_count": 2,
   "id": "a5972b38",
   "metadata": {},
   "outputs": [],
   "source": [
    "def build_color_arrays(path):\n",
    "    # reads a image, convert colors from BGR to RGB, and then to np array\n",
    "    img = cv2.imread(path)\n",
    "    img_rgb = cv2.cvtColor(img, cv2.COLOR_BGR2RGB)\n",
    "    img_to_array = np.asarray(img_rgb)[0]\n",
    "\n",
    "    # deals with array, removes duplicates and sorts the df\n",
    "    df = pd.DataFrame(img_to_array, columns=['r', 'g', 'b'])\n",
    "    df['duplicate?'] = df.duplicated()\n",
    "    unique_df = df.loc[df['duplicate?'] == False]\n",
    "    sorted_df = unique_df.sort_values(['r', 'g', 'b'])\n",
    "    del sorted_df['duplicate?']\n",
    "\n",
    "    # builds python list from dataframe\n",
    "    color_array_sorted = []\n",
    "    for color in sorted_df.index:\n",
    "        r, g, b = sorted_df['r'][color], sorted_df['g'][color], sorted_df['b'][color]\n",
    "        color_array_sorted.append((r, g, b))\n",
    "    \n",
    "    # slices the list into three equal parts, to get bright, medium, and darker colors\n",
    "    size = len(color_array_sorted)\n",
    "    n = int(size / 3)\n",
    "    dark = color_array_sorted[0:n]\n",
    "    medium = color_array_sorted[n:n+n]\n",
    "    bright = color_array_sorted[n+n:n+n+n]\n",
    "    \n",
    "    return [\n",
    "        dark,\n",
    "        medium,\n",
    "        bright,\n",
    "        color_array_sorted\n",
    "    ]\n"
   ]
  },
  {
   "cell_type": "code",
   "execution_count": 9,
   "id": "3a02f055",
   "metadata": {},
   "outputs": [],
   "source": [
    "import random\n",
    "from PIL import Image\n",
    "\n",
    "\n",
    "def build_palettes(dark, medium, bright, all_color):\n",
    "    dark = random.sample(dark, 5)\n",
    "    medium = random.sample(medium, 5)\n",
    "    bright = random.sample(bright, 5)\n",
    "    all_color = random.sample(all_color, 5)\n",
    "\n",
    "    dark_palette = Image.new(mode='RGBA', size=(100, 500), color=(0, 0, 0))\n",
    "    medium_palette = Image.new(mode='RGBA', size=(100, 500), color=(0, 0, 0))\n",
    "    bright_palette = Image.new(mode='RGBA', size=(100, 500), color=(0, 0, 0))\n",
    "    all_palette = Image.new(mode='RGBA', size=(100, 500), color=(0, 0, 0))\n",
    "\n",
    "    count = 0\n",
    "    for col in range(0, 5):\n",
    "        color_dark = Image.new(mode='RGBA', size=(100, 100), color=dark[col])\n",
    "        dark_palette.paste(color_dark, (0, count))\n",
    "\n",
    "        color_medium = Image.new(mode='RGBA', size=(100, 100), color=medium[col])\n",
    "        medium_palette.paste(color_medium, (0, count))\n",
    "\n",
    "        color_bright = Image.new(mode='RGBA', size=(100, 100), color=bright[col])\n",
    "        bright_palette.paste(color_bright, (0, count))\n",
    "\n",
    "        color_all = Image.new(mode='RGBA', size=(100, 100), color=all_color[col])\n",
    "        all_palette.paste(color_all, (0, count))\n",
    "        count += 100\n",
    "\n",
    "    \n",
    "    fig = plt.figure()\n",
    "    ax1 = fig.add_subplot(1, 4, 1)\n",
    "    ax1.set_title('Darker')\n",
    "    ax1.imshow(dark_palette)\n",
    "\n",
    "    ax2 = fig.add_subplot(1, 4, 2)\n",
    "    ax2.set_title('Medium')\n",
    "    ax2.imshow(medium_palette)\n",
    "\n",
    "    ax3 = fig.add_subplot(1, 4, 3)\n",
    "    ax3.set_title('Brighter')\n",
    "    ax3.imshow(bright_palette)\n",
    "    \n",
    "    ax4 = fig.add_subplot(1, 4, 4)\n",
    "    ax4.set_title('All')\n",
    "    ax4.imshow(all_palette)"
   ]
  },
  {
   "cell_type": "code",
   "execution_count": 12,
   "id": "246e9dbd",
   "metadata": {},
   "outputs": [
    {
     "data": {
      "image/png": "[encoded data removed]",
      "text/plain": [
       "<Figure size 640x480 with 4 Axes>"
      ]
     },
     "metadata": {},
     "output_type": "display_data"
    }
   ],
   "source": [
    "dark, medium, bright, color_arr = build_color_arrays('../assets/sample.png')\n",
    "build_palettes(dark=dark, bright=bright, medium=medium, all_color=color_arr)"
   ]
  }
 ],
 "metadata": {
  "kernelspec": {
   "display_name": "Python 3 (ipykernel)",
   "language": "python",
   "name": "python3"
  },
  "language_info": {
   "codemirror_mode": {
    "name": "ipython",
    "version": 3
   },
   "file_extension": ".py",
   "mimetype": "text/x-python",
   "name": "python",
   "nbconvert_exporter": "python",
   "pygments_lexer": "ipython3",
   "version": "3.10.10"
  },
  "vscode": {
   "interpreter": {
    "hash": "916dbcbb3f70747c44a77c7bcd40155683ae19c65e1c03b4aa3499c5328201f1"
   }
  }
 },
 "nbformat": 4,
 "nbformat_minor": 5
}
